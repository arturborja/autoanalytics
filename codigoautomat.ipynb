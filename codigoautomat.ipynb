{
 "cells": [
  {
   "cell_type": "code",
   "execution_count": null,
   "metadata": {},
   "outputs": [],
   "source": [
    "import matplotlib.pyplot as plt\n",
    "import pandas as pd\n"
   ]
  },
  {
   "cell_type": "code",
   "execution_count": null,
   "metadata": {},
   "outputs": [],
   "source": [
    "# Função para carregar dados\n",
    "def carregar_dados(caminho):\n",
    "    \"\"\"Carrega o arquivo Excel especificado.\"\"\"\n",
    "    return pd.read_excel(caminho)\n",
    "\n",
    "# Substitua pelo caminho real do seu arquivo\n",
    "caminho = r'caminhodoarquivo.xlsx'\n",
    "raw = carregar_dados(caminho)\n",
    "\n",
    "# Exibir uma amostra dos dados para verificação\n",
    "raw.head()\n"
   ]
  },
  {
   "cell_type": "code",
   "execution_count": null,
   "metadata": {},
   "outputs": [],
   "source": [
    "# Função para tratar dados\n",
    "def tratar_dados(df, filtro1='filtro1', filtro2='filtro2'):\n",
    "    \"\"\"Filtra os dados com base nos critérios especificados.\"\"\"\n",
    "    return df[(df['colunafiltro1'] != filtro1) & (df['colunafiltro2'] != filtro2)]\n",
    "\n",
    "curated = tratar_dados(raw)\n",
    "\n",
    "# Exibir os dados tratados\n",
    "curated.head()\n"
   ]
  },
  {
   "cell_type": "code",
   "execution_count": null,
   "metadata": {},
   "outputs": [],
   "source": [
    "# Função para criar pivot table\n",
    "def criar_pivot_table(df, valores, indice, colunas, funcao_agregacao):\n",
    "    \"\"\"Cria uma tabela dinâmica (pivot table).\"\"\"\n",
    "    pivot = pd.pivot_table(df, values=valores, index=indice, columns=colunas, aggfunc=funcao_agregacao)\n",
    "    print(pivot)\n",
    "    return pivot\n",
    "\n",
    "pivot1 = criar_pivot_table(curated, 'nomedacolunavalor', 'nomedacolunalinha', 'nomedacoluna', 'sum')\n"
   ]
  },
  {
   "cell_type": "code",
   "execution_count": null,
   "metadata": {},
   "outputs": [],
   "source": [
    "# Função para criar gráfico de colunas empilhadas\n",
    "def grafico_colunas_empilhadas(df, titulo, xlabel, ylabel):\n",
    "    \"\"\"Cria um gráfico de colunas empilhadas.\"\"\"\n",
    "    df.plot(kind='bar', stacked=True, color=['#f5bf42', 'orange', '#693202', '#232326'])\n",
    "\n",
    "    for i, valor in enumerate(df.sum(axis=1)):\n",
    "        plt.text(i, valor, f'R${valor:.0f}', ha='center')\n",
    "    plt.title(titulo)\n",
    "    plt.xlabel(xlabel)\n",
    "    plt.ylabel(ylabel)\n",
    "    plt.xticks(rotation=45, ha='right')\n",
    "    plt.show()\n",
    "\n",
    "grafico_colunas_empilhadas(pivot1, 'Título do Gráfico Empilhado', 'Nome do Index', 'Nome do Eixo Y')\n"
   ]
  },
  {
   "cell_type": "code",
   "execution_count": null,
   "metadata": {},
   "outputs": [],
   "source": [
    "# Função para agrupar dados\n",
    "def agrupar_dados(df, coluna_grupo, coluna_valor):\n",
    "    \"\"\"Agrupa os dados por uma coluna específica e soma os valores.\"\"\"\n",
    "    grupo = df.groupby(coluna_grupo)[coluna_valor].sum().sort_values()\n",
    "    print(grupo)\n",
    "    return grupo\n",
    "\n",
    "pivot2 = agrupar_dados(curated, 'nomedacolunalinha', 'nomedacolunavalor')\n",
    "pivot2\n"
   ]
  },
  {
   "cell_type": "code",
   "execution_count": null,
   "metadata": {},
   "outputs": [],
   "source": [
    "# Função para criar gráfico de barras\n",
    "def grafico_barras(df, titulo, xlabel, ylabel):\n",
    "    \"\"\"Cria um gráfico de barras.\"\"\"\n",
    "    plt.bar(df.index, df.values, color='orange')\n",
    "    for i, valor in enumerate(df.values):\n",
    "        plt.text(i, valor, f'{valor:.0f}', ha='center')\n",
    "    plt.title(titulo)\n",
    "    plt.xlabel(xlabel)\n",
    "    plt.ylabel(ylabel)\n",
    "    plt.xticks(rotation=45, ha='right')\n",
    "    plt.show()\n",
    "\n",
    "grafico_barras(pivot2, 'Título do Gráfico', 'Index', 'Valor')\n"
   ]
  },
  {
   "cell_type": "code",
   "execution_count": null,
   "metadata": {},
   "outputs": [],
   "source": [
    "# Função para criar gráfico de barras com porcentagens\n",
    "def grafico_barras_percentuais(df, titulo, xlabel, ylabel):\n",
    "    \"\"\"Cria um gráfico de barras com valores percentuais.\"\"\"\n",
    "    total = df.sum()\n",
    "    plt.bar(df.index, df.values, color='orange')\n",
    "    for i, valor in enumerate(df.values):\n",
    "        percentual = (valor / total) * 100\n",
    "        plt.text(i, valor + 0.5, f'R${valor:.0f}\\n({percentual:.1f}%)', ha='center')\n",
    "    plt.title(titulo)\n",
    "    plt.xlabel(xlabel)\n",
    "    plt.ylabel(ylabel)\n",
    "    plt.xticks(rotation=45, ha='right')\n",
    "    plt.show()\n",
    "\n",
    "grafico_barras_percentuais(pivot2, 'Gráfico de Porcentagens', 'Categoria', 'Valor')\n"
   ]
  },
  {
   "cell_type": "code",
   "execution_count": null,
   "metadata": {},
   "outputs": [],
   "source": [
    "# Função para exibir tabela formatada\n",
    "def mostrar_tabela(df, coluna_valor, nome_index):\n",
    "    \"\"\"Exibe uma tabela com valores e percentuais.\"\"\"\n",
    "    total = df.sum()\n",
    "    tabela = df.reset_index()\n",
    "    tabela['Percentual'] = (tabela[coluna_valor] / total) * 100\n",
    "    tabela[coluna_valor] = tabela[coluna_valor].round(2)\n",
    "    tabela['Percentual'] = tabela['Percentual'].round(2)\n",
    "    total_row = pd.DataFrame({nome_index: ['Total'], coluna_valor: [total], 'Percentual': [100]})\n",
    "    tabela = pd.concat([tabela, total_row], ignore_index=True)\n",
    "\n",
    "    fig, ax = plt.subplots(figsize=(8, 4))\n",
    "    table = ax.table(cellText=tabela.values,\n",
    "                     colLabels=tabela.columns,\n",
    "                     cellLoc='center', loc='center')\n",
    "    ax.axis('off')\n",
    "    plt.show()\n",
    "\n",
    "mostrar_tabela(pivot2, 'nomedacolunavalor', 'nomedacoluna')\n"
   ]
  }
 ],
 "metadata": {
  "kernelspec": {
   "display_name": "Python 3",
   "language": "python",
   "name": "python3"
  },
  "language_info": {
   "name": "python",
   "version": "3.10.11"
  }
 },
 "nbformat": 4,
 "nbformat_minor": 2
}
